{
 "cells": [
  {
   "cell_type": "code",
   "execution_count": 249,
   "metadata": {},
   "outputs": [],
   "source": [
    "%matplotlib inline"
   ]
  },
  {
   "cell_type": "code",
   "execution_count": 2,
   "metadata": {},
   "outputs": [],
   "source": [
    "import pandas as pd\n",
    "import seaborn as sns\n",
    "import numpy as np\n",
    "import matplotlib.pyplot as plt"
   ]
  },
  {
   "cell_type": "code",
   "execution_count": 3,
   "metadata": {},
   "outputs": [
    {
     "name": "stderr",
     "output_type": "stream",
     "text": [
      "/home/pablo/anaconda3/lib/python3.6/site-packages/IPython/core/interactiveshell.py:2698: DtypeWarning: Columns (31) have mixed types. Specify dtype option on import or set low_memory=False.\n",
      "  interactivity=interactivity, compiler=compiler, result=result)\n"
     ]
    }
   ],
   "source": [
    "data = pd.read_csv(\"./data/grantnav-20180427213910.csv\")"
   ]
  },
  {
   "cell_type": "code",
   "execution_count": 296,
   "metadata": {},
   "outputs": [],
   "source": [
    "# TODO 20-29 are incomplete location/city names and codes... can just parse myself from the postal code"
   ]
  },
  {
   "cell_type": "code",
   "execution_count": 297,
   "metadata": {},
   "outputs": [
    {
     "data": {
      "text/plain": [
       "0    360G-SE-20090067LOTT\n",
       "1    360G-SE-20075892LOTT\n",
       "Name: Identifier, dtype: object"
      ]
     },
     "execution_count": 297,
     "metadata": {},
     "output_type": "execute_result"
    }
   ],
   "source": [
    "data.Identifier[:2]"
   ]
  },
  {
   "cell_type": "code",
   "execution_count": 298,
   "metadata": {},
   "outputs": [
    {
     "data": {
      "text/plain": [
       "0    MEVAGISSEY ACTIVITY CENTRE MARKETING PLANS\n",
       "1         Community Coach SE2 WASP5 application\n",
       "Name: Title, dtype: object"
      ]
     },
     "execution_count": 298,
     "metadata": {},
     "output_type": "execute_result"
    }
   ],
   "source": [
    "data.Title[:2]"
   ]
  },
  {
   "cell_type": "code",
   "execution_count": 299,
   "metadata": {},
   "outputs": [
    {
     "data": {
      "text/plain": [
       "0    Funding under Sport England's Community Progra...\n",
       "1    Funding under Sport England's Community Progra...\n",
       "Name: Description, dtype: object"
      ]
     },
     "execution_count": 299,
     "metadata": {},
     "output_type": "execute_result"
    }
   ],
   "source": [
    "data.Description[:2]"
   ]
  },
  {
   "cell_type": "code",
   "execution_count": 300,
   "metadata": {},
   "outputs": [
    {
     "data": {
      "text/plain": [
       "GBP    13524\n",
       "EUR        1\n",
       "Name: Currency, dtype: int64"
      ]
     },
     "execution_count": 300,
     "metadata": {},
     "output_type": "execute_result"
    }
   ],
   "source": [
    "data.Currency.value_counts() # TODO: convert EUR to GBP"
   ]
  },
  {
   "cell_type": "code",
   "execution_count": 301,
   "metadata": {},
   "outputs": [
    {
     "data": {
      "text/plain": [
       "500.0     64\n",
       "5000.0    44\n",
       "Name: Amount Applied For, dtype: int64"
      ]
     },
     "execution_count": 301,
     "metadata": {},
     "output_type": "execute_result"
    }
   ],
   "source": [
    "data[\"Amount Applied For\"].value_counts().head(2) # TODO: rename all space columns"
   ]
  },
  {
   "cell_type": "code",
   "execution_count": 302,
   "metadata": {},
   "outputs": [
    {
     "data": {
      "text/plain": [
       "10000.0    1165\n",
       "50000.0     513\n",
       "5000.0      238\n",
       "0.0         186\n",
       "2000.0      173\n",
       "1000.0      146\n",
       "3000.0      145\n",
       "30000.0     131\n",
       "500.0       117\n",
       "2500.0       93\n",
       "Name: Amount Awarded, dtype: int64"
      ]
     },
     "execution_count": 302,
     "metadata": {},
     "output_type": "execute_result"
    }
   ],
   "source": [
    "data[\"Amount Awarded\"].value_counts().head(10)"
   ]
  },
  {
   "cell_type": "code",
   "execution_count": 303,
   "metadata": {},
   "outputs": [
    {
     "data": {
      "text/plain": [
       "Index(['Identifier', 'Title', 'Description', 'Currency', 'Amount Applied For',\n",
       "       'Amount Awarded', 'Amount Disbursed', 'Award Date', 'URL',\n",
       "       'Planned Dates:Start Date', 'Planned Dates:End Date',\n",
       "       'Planned Dates:Duration (months)', 'Actual Dates:Start Date',\n",
       "       'Actual Dates:End Date', 'Actual Dates:Duration (months)',\n",
       "       'Recipient Org:Identifier', 'Recipient Org:Name',\n",
       "       'Recipient Org:Charity Number', 'Recipient Org:Company Number',\n",
       "       'Recipient Org:Postal Code',\n",
       "       'Recipient Org:Location:0:Geographic Code Type',\n",
       "       'Recipient Org:Location:0:Geographic Code',\n",
       "       'Recipient Org:Location:0:Name',\n",
       "       'Recipient Org:Location:1:Geographic Code Type',\n",
       "       'Recipient Org:Location:1:Geographic Code',\n",
       "       'Recipient Org:Location:1:Name',\n",
       "       'Recipient Org:Location:2:Geographic Code Type',\n",
       "       'Recipient Org:Location:2:Geographic Code',\n",
       "       'Recipient Org:Location:2:Name', 'Funding Org:Identifier',\n",
       "       'Funding Org:Name', 'Funding Org:Postal Code', 'Grant Programme:Code',\n",
       "       'Grant Programme:Title', 'Grant Programme:URL',\n",
       "       'Beneficiary Location:0:Name', 'Beneficiary Location:0:Country Code',\n",
       "       'Beneficiary Location:0:Geographic Code',\n",
       "       'Beneficiary Location:0:Geographic Code Type',\n",
       "       'Beneficiary Location:1:Name', 'Beneficiary Location:1:Country Code',\n",
       "       'Beneficiary Location:1:Geographic Code',\n",
       "       'Beneficiary Location:1:Geographic Code Type',\n",
       "       'Beneficiary Location:2:Name', 'Beneficiary Location:2:Country Code',\n",
       "       'Beneficiary Location:2:Geographic Code',\n",
       "       'Beneficiary Location:2:Geographic Code Type',\n",
       "       'Beneficiary Location:3:Name', 'Beneficiary Location:3:Country Code',\n",
       "       'Beneficiary Location:3:Geographic Code',\n",
       "       'Beneficiary Location:3:Geographic Code Type',\n",
       "       'Beneficiary Location:4:Name', 'Beneficiary Location:4:Country Code',\n",
       "       'Beneficiary Location:4:Geographic Code',\n",
       "       'Beneficiary Location:4:Geographic Code Type',\n",
       "       'Beneficiary Location:5:Name', 'Beneficiary Location:5:Country Code',\n",
       "       'Beneficiary Location:5:Geographic Code',\n",
       "       'Beneficiary Location:5:Geographic Code Type',\n",
       "       'Beneficiary Location:6:Name', 'Beneficiary Location:6:Country Code',\n",
       "       'Beneficiary Location:6:Geographic Code',\n",
       "       'Beneficiary Location:6:Geographic Code Type',\n",
       "       'Beneficiary Location:7:Name', 'Beneficiary Location:7:Country Code',\n",
       "       'Beneficiary Location:7:Geographic Code',\n",
       "       'Beneficiary Location:7:Geographic Code Type', 'From An Open Call?',\n",
       "       'The following fields are not in the 360 Giving Standard and are added by GrantNav.',\n",
       "       'Data Source', 'Publisher:Name', 'Recipient Region',\n",
       "       'Recipient District', 'Recipient District Geographic Code',\n",
       "       'Recipient Ward', 'Recipient Ward Geographic Code',\n",
       "       'Retrieved for use in GrantNav', 'License (see note)',\n",
       "       'Note, this file also contains OS data © Crown copyright and database right 2016, Royal Mail data © Royal Mail copyright and Database right 2016, National Statistics data © Crown copyright and database right 2015 & 2016, see http://grantnav.threesixtygiving.org/datasets/ for more information.'],\n",
       "      dtype='object')"
      ]
     },
     "execution_count": 303,
     "metadata": {},
     "output_type": "execute_result"
    }
   ],
   "source": [
    "data.columns\n",
    "#data.Identifier.value_counts() seem like unique Ids? maybe can drop those"
   ]
  },
  {
   "cell_type": "code",
   "execution_count": 317,
   "metadata": {},
   "outputs": [],
   "source": [
    "banlist = np.concatenate([\n",
    "    data.columns[[0]],\n",
    "    data.columns[data.columns.isin(data.columns[20: 29])],\n",
    "    data.columns[data.columns.isin(data.columns[35: 67])],\n",
    "    data.columns[[-8]],\n",
    "    data.columns[-7:-3],\n",
    "    data.columns[-3:],\n",
    "    data.columns[-11:-9]\n",
    "])"
   ]
  },
  {
   "cell_type": "code",
   "execution_count": 318,
   "metadata": {},
   "outputs": [],
   "source": [
    "data = data[data.columns[~data.columns.isin(banlist)]]"
   ]
  },
  {
   "cell_type": "code",
   "execution_count": 319,
   "metadata": {},
   "outputs": [
    {
     "data": {
      "text/html": [
       "<div>\n",
       "<style>\n",
       "    .dataframe thead tr:only-child th {\n",
       "        text-align: right;\n",
       "    }\n",
       "\n",
       "    .dataframe thead th {\n",
       "        text-align: left;\n",
       "    }\n",
       "\n",
       "    .dataframe tbody tr th {\n",
       "        vertical-align: top;\n",
       "    }\n",
       "</style>\n",
       "<table border=\"1\" class=\"dataframe\">\n",
       "  <thead>\n",
       "    <tr style=\"text-align: right;\">\n",
       "      <th></th>\n",
       "      <th>Title</th>\n",
       "      <th>Description</th>\n",
       "      <th>Currency</th>\n",
       "      <th>Amount Applied For</th>\n",
       "      <th>Amount Awarded</th>\n",
       "      <th>Amount Disbursed</th>\n",
       "      <th>Award Date</th>\n",
       "      <th>URL</th>\n",
       "      <th>Planned Dates:Start Date</th>\n",
       "      <th>Planned Dates:End Date</th>\n",
       "      <th>...</th>\n",
       "      <th>Recipient Org:Company Number</th>\n",
       "      <th>Recipient Org:Postal Code</th>\n",
       "      <th>Funding Org:Identifier</th>\n",
       "      <th>Funding Org:Name</th>\n",
       "      <th>Funding Org:Postal Code</th>\n",
       "      <th>Grant Programme:Code</th>\n",
       "      <th>Grant Programme:Title</th>\n",
       "      <th>Grant Programme:URL</th>\n",
       "      <th>From An Open Call?</th>\n",
       "      <th>Publisher:Name</th>\n",
       "    </tr>\n",
       "  </thead>\n",
       "  <tbody>\n",
       "    <tr>\n",
       "      <th>0</th>\n",
       "      <td>MEVAGISSEY ACTIVITY CENTRE MARKETING PLANS</td>\n",
       "      <td>Funding under Sport England's Community Progra...</td>\n",
       "      <td>GBP</td>\n",
       "      <td>NaN</td>\n",
       "      <td>27950.0</td>\n",
       "      <td>27950.0</td>\n",
       "      <td>2009-04-08T00:00:00+00:00</td>\n",
       "      <td>NaN</td>\n",
       "      <td>2009-04-01T00:00:00+00:00</td>\n",
       "      <td>2011-03-31T00:00:00+00:00</td>\n",
       "      <td>...</td>\n",
       "      <td>05464886</td>\n",
       "      <td>PL26 6SA</td>\n",
       "      <td>GB-COH-RC000766</td>\n",
       "      <td>Sport England</td>\n",
       "      <td>NaN</td>\n",
       "      <td>CP</td>\n",
       "      <td>Community Programme</td>\n",
       "      <td>http://www.sportengland.org/funding</td>\n",
       "      <td>Yes</td>\n",
       "      <td>Sport England</td>\n",
       "    </tr>\n",
       "  </tbody>\n",
       "</table>\n",
       "<p>1 rows × 27 columns</p>\n",
       "</div>"
      ],
      "text/plain": [
       "                                        Title  \\\n",
       "0  MEVAGISSEY ACTIVITY CENTRE MARKETING PLANS   \n",
       "\n",
       "                                         Description Currency  \\\n",
       "0  Funding under Sport England's Community Progra...      GBP   \n",
       "\n",
       "   Amount Applied For  Amount Awarded  Amount Disbursed  \\\n",
       "0                 NaN         27950.0           27950.0   \n",
       "\n",
       "                  Award Date  URL   Planned Dates:Start Date  \\\n",
       "0  2009-04-08T00:00:00+00:00  NaN  2009-04-01T00:00:00+00:00   \n",
       "\n",
       "      Planned Dates:End Date      ...        Recipient Org:Company Number  \\\n",
       "0  2011-03-31T00:00:00+00:00      ...                            05464886   \n",
       "\n",
       "   Recipient Org:Postal Code  Funding Org:Identifier  Funding Org:Name  \\\n",
       "0                   PL26 6SA         GB-COH-RC000766     Sport England   \n",
       "\n",
       "  Funding Org:Postal Code Grant Programme:Code Grant Programme:Title  \\\n",
       "0                     NaN                   CP   Community Programme   \n",
       "\n",
       "                   Grant Programme:URL From An Open Call? Publisher:Name  \n",
       "0  http://www.sportengland.org/funding                Yes  Sport England  \n",
       "\n",
       "[1 rows x 27 columns]"
      ]
     },
     "execution_count": 319,
     "metadata": {},
     "output_type": "execute_result"
    }
   ],
   "source": [
    "data.head(1)"
   ]
  },
  {
   "cell_type": "code",
   "execution_count": 320,
   "metadata": {},
   "outputs": [
    {
     "data": {
      "text/plain": [
       "13525"
      ]
     },
     "execution_count": 320,
     "metadata": {},
     "output_type": "execute_result"
    }
   ],
   "source": [
    "len(data)"
   ]
  },
  {
   "cell_type": "code",
   "execution_count": 321,
   "metadata": {},
   "outputs": [
    {
     "data": {
      "text/plain": [
       "Index(['Title', 'Description', 'Currency', 'Amount Applied For',\n",
       "       'Amount Awarded', 'Amount Disbursed', 'Award Date', 'URL',\n",
       "       'Planned Dates:Start Date', 'Planned Dates:End Date',\n",
       "       'Planned Dates:Duration (months)', 'Actual Dates:Start Date',\n",
       "       'Actual Dates:End Date', 'Actual Dates:Duration (months)',\n",
       "       'Recipient Org:Identifier', 'Recipient Org:Name',\n",
       "       'Recipient Org:Charity Number', 'Recipient Org:Company Number',\n",
       "       'Recipient Org:Postal Code', 'Funding Org:Identifier',\n",
       "       'Funding Org:Name', 'Funding Org:Postal Code', 'Grant Programme:Code',\n",
       "       'Grant Programme:Title', 'Grant Programme:URL', 'From An Open Call?',\n",
       "       'Publisher:Name'],\n",
       "      dtype='object')"
      ]
     },
     "execution_count": 321,
     "metadata": {},
     "output_type": "execute_result"
    }
   ],
   "source": [
    "data.columns"
   ]
  },
  {
   "cell_type": "code",
   "execution_count": 322,
   "metadata": {},
   "outputs": [
    {
     "data": {
      "text/plain": [
       "Series([], Name: Actual Dates:Duration (months), dtype: int64)"
      ]
     },
     "execution_count": 322,
     "metadata": {},
     "output_type": "execute_result"
    }
   ],
   "source": [
    "data[\"Actual Dates:Duration (months)\"].value_counts()"
   ]
  },
  {
   "cell_type": "code",
   "execution_count": 327,
   "metadata": {},
   "outputs": [
    {
     "data": {
      "text/plain": [
       "Title                                                         Welcome to Brooksville\n",
       "Description                        For new marketing materials to help the charit...\n",
       "Currency                                                                         GBP\n",
       "Amount Applied For                                                              5000\n",
       "Amount Awarded                                                                  1000\n",
       "Amount Disbursed                                                                 NaN\n",
       "Award Date                                                 2016-06-23T00:00:00+00:00\n",
       "URL                                                 http://www.southernbrooks.org.uk\n",
       "Planned Dates:Start Date                                   2016-07-01T00:00:00+00:00\n",
       "Planned Dates:End Date                                     2016-01-30T00:00:00+00:00\n",
       "Planned Dates:Duration (months)                                                   -6\n",
       "Actual Dates:Start Date                                                          NaN\n",
       "Actual Dates:End Date                                                            NaN\n",
       "Actual Dates:Duration (months)                                                   NaN\n",
       "Recipient Org:Identifier                                              GB-CHC-1157061\n",
       "Recipient Org:Name                             Southern Brooks Community Partnership\n",
       "Recipient Org:Charity Number                                                 1157061\n",
       "Recipient Org:Company Number                                                     NaN\n",
       "Recipient Org:Postal Code                                                        NaN\n",
       "Funding Org:Identifier                                                GB-CHC-1080418\n",
       "Funding Org:Name                                        Quartet Community Foundation\n",
       "Funding Org:Postal Code                                                          NaN\n",
       "Grant Programme:Code                                                     EXP-2016/17\n",
       "Grant Programme:Title                                        Express Grant Programme\n",
       "Grant Programme:URL                                                              NaN\n",
       "From An Open Call?                                                               NaN\n",
       "Publisher:Name                                          Quartet Community Foundation\n",
       "Name: 3171, dtype: object"
      ]
     },
     "execution_count": 327,
     "metadata": {},
     "output_type": "execute_result"
    }
   ],
   "source": [
    "data[data[\"Planned Dates:Duration (months)\"] < 0].iloc[0]"
   ]
  },
  {
   "cell_type": "code",
   "execution_count": 205,
   "metadata": {},
   "outputs": [
    {
     "data": {
      "text/plain": [
       "count    11071.000000\n",
       "mean        14.193569\n",
       "std         10.728750\n",
       "min         -6.000000\n",
       "25%         11.000000\n",
       "50%         12.000000\n",
       "75%         12.000000\n",
       "max        169.000000\n",
       "Name: Planned Dates:Duration (months), dtype: float64"
      ]
     },
     "execution_count": 205,
     "metadata": {},
     "output_type": "execute_result"
    }
   ],
   "source": [
    "data[\"Planned Dates:Duration (months)\"].describe()"
   ]
  },
  {
   "cell_type": "code",
   "execution_count": 204,
   "metadata": {},
   "outputs": [
    {
     "data": {
      "text/plain": [
       "12.0    6090\n",
       "36.0     700\n",
       "11.0     373\n",
       "3.0      314\n",
       "6.0      287\n",
       "Name: Planned Dates:Duration (months), dtype: int64"
      ]
     },
     "execution_count": 204,
     "metadata": {},
     "output_type": "execute_result"
    }
   ],
   "source": [
    "data[\"Planned Dates:Duration (months)\"].value_counts().head()"
   ]
  },
  {
   "cell_type": "code",
   "execution_count": 181,
   "metadata": {},
   "outputs": [
    {
     "data": {
      "text/plain": [
       "English Community Transport 2016/17                         693\n",
       "Bus Service Operator Grants (outside London) 2016/17        293\n",
       "Primary Spaces                                              165\n",
       "Emergency Flood Relief                                      116\n",
       "Supported Contact                                           114\n",
       "Youth Justice (YOT) Grant                                    98\n",
       "Bus Service Operator Grants to Local Authorities 2016/17     95\n",
       "College Sport Makers                                         83\n",
       "Home Chargers                                                72\n",
       "Highways Maintenance Block 2016/17                           57\n",
       "Name: Title, dtype: int64"
      ]
     },
     "execution_count": 181,
     "metadata": {},
     "output_type": "execute_result"
    }
   ],
   "source": [
    "data.Title.value_counts().head(10)"
   ]
  },
  {
   "cell_type": "code",
   "execution_count": 184,
   "metadata": {},
   "outputs": [
    {
     "data": {
      "text/plain": [
       "Placeholder                                                                                                                                                                                                                                                                                           1316\n",
       "Funding under Sport England's Primary Spaces funding programme for a Capital project titled 'Primary Spaces'. This project is a Sport participation and capacity building project, with a focus on younger beneficiaries. This funding has contributed towards a MUGA - MUGA (Informal Recreation)     163\n",
       "Grant allocated to local authorities for the purpose of the operation of the youth justice system and the provision of youth justice services                                                                                                                                                          151\n",
       "Name: Description, dtype: int64"
      ]
     },
     "execution_count": 184,
     "metadata": {},
     "output_type": "execute_result"
    }
   ],
   "source": [
    "data.Description.value_counts().head(3) # TODO: Need to clean this up"
   ]
  },
  {
   "cell_type": "code",
   "execution_count": 95,
   "metadata": {},
   "outputs": [],
   "source": [
    "top10grantps = data[\"Grant Programme:Title\"].value_counts().head(10)"
   ]
  },
  {
   "cell_type": "code",
   "execution_count": 97,
   "metadata": {},
   "outputs": [
    {
     "data": {
      "image/png": "[encoded data removed]",
      "text/plain": [
       "<matplotlib.figure.Figure at 0x7ff755517518>"
      ]
     },
     "metadata": {},
     "output_type": "display_data"
    }
   ],
   "source": [
    "plt.barh(top5grantps.index, top5grantps.values)\n",
    "plt.title(\"Top 10 Grant Programmes Counts\")\n",
    "\n",
    "sns.despine()"
   ]
  },
  {
   "cell_type": "code",
   "execution_count": 117,
   "metadata": {},
   "outputs": [
    {
     "data": {
      "text/plain": [
       "Text(0.5,1,'Amount applied for (log10 scale)')"
      ]
     },
     "execution_count": 117,
     "metadata": {},
     "output_type": "execute_result"
    },
    {
     "data": {
      "image/png": "[encoded data removed]",
      "text/plain": [
       "<matplotlib.figure.Figure at 0x7ff7553d3470>"
      ]
     },
     "metadata": {},
     "output_type": "display_data"
    }
   ],
   "source": [
    "sns.distplot(data[\"Amount Applied For\"][data[\"Amount Applied For\"] > 0].apply(np.log10))\n",
    "sns.despine()\n",
    "plt.title(\"Amount applied for (log10 scale)\")"
   ]
  },
  {
   "cell_type": "code",
   "execution_count": 100,
   "metadata": {},
   "outputs": [
    {
     "data": {
      "text/plain": [
       "count       835.000000\n",
       "mean       6404.408695\n",
       "std       18908.989015\n",
       "min           0.000000\n",
       "25%         735.000000\n",
       "50%        2000.000000\n",
       "75%        5000.000000\n",
       "max      307675.000000\n",
       "Name: Amount Applied For, dtype: float64"
      ]
     },
     "execution_count": 100,
     "metadata": {},
     "output_type": "execute_result"
    }
   ],
   "source": [
    "data[\"Amount Applied For\"].describe()"
   ]
  },
  {
   "cell_type": "code",
   "execution_count": 118,
   "metadata": {},
   "outputs": [
    {
     "data": {
      "text/plain": [
       "count    1.352500e+04\n",
       "mean     2.915005e+05\n",
       "std      1.227965e+07\n",
       "min      0.000000e+00\n",
       "25%      3.000000e+03\n",
       "50%      9.291000e+03\n",
       "75%      3.663400e+04\n",
       "max      1.418364e+09\n",
       "Name: Amount Awarded, dtype: float64"
      ]
     },
     "execution_count": 118,
     "metadata": {},
     "output_type": "execute_result"
    }
   ],
   "source": [
    "data[\"Amount Awarded\"].describe()"
   ]
  },
  {
   "cell_type": "code",
   "execution_count": 124,
   "metadata": {},
   "outputs": [
    {
     "data": {
      "text/plain": [
       "Text(0.5,1,'Amount awarded')"
      ]
     },
     "execution_count": 124,
     "metadata": {},
     "output_type": "execute_result"
    },
    {
     "data": {
      "image/png": "[encoded data removed]",
      "text/plain": [
       "<matplotlib.figure.Figure at 0x7ff755272a90>"
      ]
     },
     "metadata": {},
     "output_type": "display_data"
    }
   ],
   "source": [
    "sns.distplot(data[\"Amount Awarded\"])\n",
    "sns.despine()\n",
    "plt.title(\"Amount awarded\")"
   ]
  },
  {
   "cell_type": "code",
   "execution_count": 127,
   "metadata": {},
   "outputs": [
    {
     "data": {
      "text/plain": [
       "Text(0.5,1,'Amount awarded > 0, log10')"
      ]
     },
     "execution_count": 127,
     "metadata": {},
     "output_type": "execute_result"
    },
    {
     "data": {
      "image/png": "[encoded data removed]",
      "text/plain": [
       "<matplotlib.figure.Figure at 0x7ff7555278d0>"
      ]
     },
     "metadata": {},
     "output_type": "display_data"
    }
   ],
   "source": [
    "sns.distplot(data[\"Amount Awarded\"][data[\"Amount Awarded\"]>0].apply(np.log10))\n",
    "sns.despine()\n",
    "plt.title(\"Amount awarded > 0, log10\")"
   ]
  },
  {
   "cell_type": "code",
   "execution_count": 133,
   "metadata": {},
   "outputs": [
    {
     "data": {
      "text/plain": [
       "1048576"
      ]
     },
     "execution_count": 133,
     "metadata": {},
     "output_type": "execute_result"
    }
   ],
   "source": [
    "4 ** 10"
   ]
  },
  {
   "cell_type": "code",
   "execution_count": 199,
   "metadata": {},
   "outputs": [
    {
     "data": {
      "text/html": [
       "<div>\n",
       "<style>\n",
       "    .dataframe thead tr:only-child th {\n",
       "        text-align: right;\n",
       "    }\n",
       "\n",
       "    .dataframe thead th {\n",
       "        text-align: left;\n",
       "    }\n",
       "\n",
       "    .dataframe tbody tr th {\n",
       "        vertical-align: top;\n",
       "    }\n",
       "</style>\n",
       "<table border=\"1\" class=\"dataframe\">\n",
       "  <thead>\n",
       "    <tr style=\"text-align: right;\">\n",
       "      <th></th>\n",
       "      <th>Amount Applied For</th>\n",
       "      <th>Amount Awarded</th>\n",
       "    </tr>\n",
       "  </thead>\n",
       "  <tbody>\n",
       "    <tr>\n",
       "      <th>3120</th>\n",
       "      <td>0.0</td>\n",
       "      <td>5000.0</td>\n",
       "    </tr>\n",
       "    <tr>\n",
       "      <th>3023</th>\n",
       "      <td>0.0</td>\n",
       "      <td>2500.0</td>\n",
       "    </tr>\n",
       "    <tr>\n",
       "      <th>3820</th>\n",
       "      <td>0.0</td>\n",
       "      <td>1500.0</td>\n",
       "    </tr>\n",
       "    <tr>\n",
       "      <th>1534</th>\n",
       "      <td>0.0</td>\n",
       "      <td>1380.0</td>\n",
       "    </tr>\n",
       "    <tr>\n",
       "      <th>4122</th>\n",
       "      <td>0.0</td>\n",
       "      <td>850.0</td>\n",
       "    </tr>\n",
       "  </tbody>\n",
       "</table>\n",
       "</div>"
      ],
      "text/plain": [
       "      Amount Applied For  Amount Awarded\n",
       "3120                 0.0          5000.0\n",
       "3023                 0.0          2500.0\n",
       "3820                 0.0          1500.0\n",
       "1534                 0.0          1380.0\n",
       "4122                 0.0           850.0"
      ]
     },
     "execution_count": 199,
     "metadata": {},
     "output_type": "execute_result"
    }
   ],
   "source": [
    "data[['Amount Applied For',\n",
    "       'Amount Awarded']][data[\"Amount Applied For\"] == 0].dropna().sort_values(by=\"Amount Awarded\", ascending=False).head()"
   ]
  },
  {
   "cell_type": "code",
   "execution_count": 193,
   "metadata": {},
   "outputs": [],
   "source": [
    "dataAppliedAwarded = data[['Amount Applied For',\n",
    "       'Amount Awarded', 'Amount Disbursed']].dropna()"
   ]
  },
  {
   "cell_type": "code",
   "execution_count": 201,
   "metadata": {},
   "outputs": [
    {
     "data": {
      "text/html": [
       "<div>\n",
       "<style>\n",
       "    .dataframe thead tr:only-child th {\n",
       "        text-align: right;\n",
       "    }\n",
       "\n",
       "    .dataframe thead th {\n",
       "        text-align: left;\n",
       "    }\n",
       "\n",
       "    .dataframe tbody tr th {\n",
       "        vertical-align: top;\n",
       "    }\n",
       "</style>\n",
       "<table border=\"1\" class=\"dataframe\">\n",
       "  <thead>\n",
       "    <tr style=\"text-align: right;\">\n",
       "      <th></th>\n",
       "      <th>Amount Applied For</th>\n",
       "      <th>Amount Awarded</th>\n",
       "      <th>Amount Disbursed</th>\n",
       "    </tr>\n",
       "  </thead>\n",
       "  <tbody>\n",
       "  </tbody>\n",
       "</table>\n",
       "</div>"
      ],
      "text/plain": [
       "Empty DataFrame\n",
       "Columns: [Amount Applied For, Amount Awarded, Amount Disbursed]\n",
       "Index: []"
      ]
     },
     "execution_count": 201,
     "metadata": {},
     "output_type": "execute_result"
    }
   ],
   "source": [
    "dataAppliedAwarded[dataAppliedAwarded[\"Amount Disbursed\"] > dataAppliedAwarded[\"Amount Awarded\"]]"
   ]
  },
  {
   "cell_type": "code",
   "execution_count": 202,
   "metadata": {},
   "outputs": [
    {
     "data": {
      "text/html": [
       "<div>\n",
       "<style>\n",
       "    .dataframe thead tr:only-child th {\n",
       "        text-align: right;\n",
       "    }\n",
       "\n",
       "    .dataframe thead th {\n",
       "        text-align: left;\n",
       "    }\n",
       "\n",
       "    .dataframe tbody tr th {\n",
       "        vertical-align: top;\n",
       "    }\n",
       "</style>\n",
       "<table border=\"1\" class=\"dataframe\">\n",
       "  <thead>\n",
       "    <tr style=\"text-align: right;\">\n",
       "      <th></th>\n",
       "      <th>Amount Applied For</th>\n",
       "      <th>Amount Awarded</th>\n",
       "      <th>Amount Disbursed</th>\n",
       "    </tr>\n",
       "  </thead>\n",
       "  <tbody>\n",
       "    <tr>\n",
       "      <th>1120</th>\n",
       "      <td>120000.0</td>\n",
       "      <td>120000.0</td>\n",
       "      <td>80000.0</td>\n",
       "    </tr>\n",
       "    <tr>\n",
       "      <th>1121</th>\n",
       "      <td>120000.0</td>\n",
       "      <td>120000.0</td>\n",
       "      <td>80000.0</td>\n",
       "    </tr>\n",
       "    <tr>\n",
       "      <th>1122</th>\n",
       "      <td>120000.0</td>\n",
       "      <td>120000.0</td>\n",
       "      <td>40000.0</td>\n",
       "    </tr>\n",
       "  </tbody>\n",
       "</table>\n",
       "</div>"
      ],
      "text/plain": [
       "      Amount Applied For  Amount Awarded  Amount Disbursed\n",
       "1120            120000.0        120000.0           80000.0\n",
       "1121            120000.0        120000.0           80000.0\n",
       "1122            120000.0        120000.0           40000.0"
      ]
     },
     "execution_count": 202,
     "metadata": {},
     "output_type": "execute_result"
    }
   ],
   "source": [
    "dataAppliedAwarded[dataAppliedAwarded[\"Amount Disbursed\"] < dataAppliedAwarded[\"Amount Awarded\"]]"
   ]
  },
  {
   "cell_type": "code",
   "execution_count": 191,
   "metadata": {},
   "outputs": [
    {
     "data": {
      "text/plain": [
       "Index(['Identifier', 'Title', 'Description', 'Currency', 'Amount Applied For',\n",
       "       'Amount Awarded', 'Amount Disbursed', 'Award Date', 'URL',\n",
       "       'Planned Dates:Start Date', 'Planned Dates:End Date',\n",
       "       'Planned Dates:Duration (months)', 'Actual Dates:Start Date',\n",
       "       'Actual Dates:End Date', 'Actual Dates:Duration (months)',\n",
       "       'Recipient Org:Identifier', 'Recipient Org:Name',\n",
       "       'Recipient Org:Charity Number', 'Recipient Org:Company Number',\n",
       "       'Recipient Org:Postal Code', 'Funding Org:Identifier',\n",
       "       'Funding Org:Name', 'Funding Org:Postal Code', 'Grant Programme:Code',\n",
       "       'Grant Programme:Title', 'Grant Programme:URL', 'From An Open Call?',\n",
       "       'Data Source', 'Publisher:Name', 'Recipient Region',\n",
       "       'Recipient District', 'Recipient District Geographic Code',\n",
       "       'Recipient Ward', 'Recipient Ward Geographic Code'],\n",
       "      dtype='object')"
      ]
     },
     "execution_count": 191,
     "metadata": {},
     "output_type": "execute_result"
    }
   ],
   "source": [
    "data.columns"
   ]
  },
  {
   "cell_type": "code",
   "execution_count": 165,
   "metadata": {},
   "outputs": [],
   "source": [
    "#dataAppliedAwarded = dataAppliedAwarded.apply(np.log)"
   ]
  },
  {
   "cell_type": "code",
   "execution_count": 167,
   "metadata": {},
   "outputs": [],
   "source": [
    "#g = sns.PairGrid(data=dataAppliedAwarded)\n",
    "#g = g.map(sns.kdeplot)"
   ]
  },
  {
   "cell_type": "code",
   "execution_count": 168,
   "metadata": {},
   "outputs": [
    {
     "data": {
      "text/plain": [
       "Text(0.5,1,'Amount applied for (log10 scale)')"
      ]
     },
     "execution_count": 168,
     "metadata": {},
     "output_type": "execute_result"
    },
    {
     "data": {
      "image/png": "[encoded data removed]",
      "text/plain": [
       "<matplotlib.figure.Figure at 0x7ff7542ffcc0>"
      ]
     },
     "metadata": {},
     "output_type": "display_data"
    }
   ],
   "source": [
    "sns.distplot(data[\"Amount Applied For\"][data[\"Amount Applied For\"] > 0].apply(np.log10))\n",
    "sns.despine()\n",
    "plt.title(\"Amount applied for (log10 scale)\")"
   ]
  },
  {
   "cell_type": "code",
   "execution_count": 170,
   "metadata": {},
   "outputs": [],
   "source": [
    "#data[data[\"Recipient Org:Identifier\"] == \"6825798\"][\"Recipient Org:Name\"]"
   ]
  },
  {
   "cell_type": "code",
   "execution_count": 171,
   "metadata": {},
   "outputs": [
    {
     "data": {
      "text/plain": [
       "6825798        45\n",
       "8248833        41\n",
       "GB435757819    12\n",
       "GGIS_ID_296     9\n",
       "GB464644528     9\n",
       "Name: Recipient Org:Identifier, dtype: int64"
      ]
     },
     "execution_count": 171,
     "metadata": {},
     "output_type": "execute_result"
    }
   ],
   "source": [
    "data[\"Recipient Org:Identifier\"].value_counts().head()"
   ]
  },
  {
   "cell_type": "code",
   "execution_count": null,
   "metadata": {},
   "outputs": [],
   "source": []
  }
 ],
 "metadata": {
  "kernelspec": {
   "display_name": "Python 3",
   "language": "python",
   "name": "python3"
  },
  "language_info": {
   "codemirror_mode": {
    "name": "ipython",
    "version": 3
   },
   "file_extension": ".py",
   "mimetype": "text/x-python",
   "name": "python",
   "nbconvert_exporter": "python",
   "pygments_lexer": "ipython3",
   "version": "3.6.3"
  }
 },
 "nbformat": 4,
 "nbformat_minor": 2
}
